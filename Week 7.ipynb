{
 "cells": [
  {
   "cell_type": "code",
   "execution_count": null,
   "id": "d2ddf733-e346-40a0-8d14-64005387d548",
   "metadata": {},
   "outputs": [],
   "source": [
    "import pandas as pd\n",
    "import numpy as np\n",
    "import matplotlib.pyplot as plt\n",
    "import seaborn as sns\n",
    "from sklearn.datasets import load_iris\n",
    "sns.set(style=\"whitegrid\")"
   ]
  },
  {
   "cell_type": "code",
   "execution_count": null,
   "id": "3ba57587-ba17-4c86-8118-afaaaf9eda77",
   "metadata": {},
   "outputs": [],
   "source": [
    "iris = load_iris\n",
    "df = pd.DataFrame(data=iris.data, column=iris.features.names)\n",
    "df['species'] = pd.Categorical.from_codes(iris.target, iris.target_names)\n",
    "df.head()\n",
    "print(\"First 5 rows of the dataset:\")\n",
    "    print(df.head())\n",
    "\n",
    "    # Data types and missing values\n",
    "    print(\"Data Types:\")\n",
    "    print(df.dtypes)\n",
    "\n",
    "    print(\"Missing Values:\")\n",
    "    print(df.isnull().sum())\n",
    "\n",
    "except Exception as e:\n",
    "    print(\"Error loading dataset:\", e)"
   ]
  },
  {
   "cell_type": "code",
   "execution_count": null,
   "id": "982141d7-16b6-4e0e-8aeb-53febaa35025",
   "metadata": {},
   "outputs": [],
   "source": [
    "print(\"Descriptive Statistics:\")\n",
    "print(df.describe())\n",
    "\n",
    "grouped_means = df.groupby('species').mean()\n",
    "print(\"Mean Values by Species:\")\n",
    "print(grouped_means)\n",
    "\n",
    "print(\"Observations:\")\n",
    "print(\"- Setosa has generally smaller feature measurements.\")\n",
    "print(\"- Virginica has the largest petal dimensions.\")\n",
    "print(\"- Versicolor is intermediate in most measurements.\")\n"
   ]
  },
  {
   "cell_type": "code",
   "execution_count": null,
   "id": "fde91e77-f049-4f11-9487-363ea4350cd6",
   "metadata": {},
   "outputs": [],
   "source": [
    "grouped_means.T.plot(kind='line', marker='o')\n",
    "plt.title('Average Feature Values per Species')\n",
    "plt.xlabel('Features')\n",
    "plt.ylabel('Mean Value')\n",
    "plt.legend(title='Species')\n",
    "plt.xticks(rotation=45)\n",
    "plt.tight_layout()\n",
    "plt.show()"
   ]
  },
  {
   "cell_type": "code",
   "execution_count": null,
   "id": "fc9c5986-f307-4ef4-8506-201f4e82defe",
   "metadata": {},
   "outputs": [],
   "source": [
    "sns.barplot(x='species', y='petal length (cm)', data=df)\n",
    "plt.title('Average Petal Length by Species')\n",
    "plt.xlabel('Species')\n",
    "plt.ylabel('Petal Length (cm)')\n",
    "plt.show()"
   ]
  },
  {
   "cell_type": "code",
   "execution_count": null,
   "id": "5c9ec4a6-cd93-46a8-b481-796755be2019",
   "metadata": {},
   "outputs": [],
   "source": [
    "plt.hist(df['sepal width (cm)'], bins=10, color='skyblue', edgecolor='black')\n",
    "plt.title('Distribution of Sepal Width')\n",
    "plt.xlabel('Sepal Width (cm)')\n",
    "plt.ylabel('Frequency')\n",
    "plt.show()"
   ]
  },
  {
   "cell_type": "code",
   "execution_count": null,
   "id": "b6bb43ed-8595-46f2-b217-6516da0fb118",
   "metadata": {},
   "outputs": [],
   "source": [
    "sns.scatterplot(x='sepal length (cm)', y='petal length (cm)', hue='species', data=df)\n",
    "plt.title('Sepal Length vs. Petal Length by Species')\n",
    "plt.xlabel('Sepal Length (cm)')\n",
    "plt.ylabel('Petal Length (cm)')\n",
    "plt.legend(title='Species')\n",
    "plt.show()"
   ]
  },
  {
   "cell_type": "code",
   "execution_count": null,
   "id": "83dee113-61b9-4450-a365-481c9c203226",
   "metadata": {},
   "outputs": [],
   "source": []
  }
 ],
 "metadata": {
  "kernelspec": {
   "display_name": "",
   "name": ""
  },
  "language_info": {
   "name": ""
  }
 },
 "nbformat": 4,
 "nbformat_minor": 5
}
